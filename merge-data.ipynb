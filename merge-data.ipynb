{
 "cells": [
  {
   "cell_type": "code",
   "execution_count": 14,
   "id": "initial_id",
   "metadata": {
    "collapsed": true,
    "ExecuteTime": {
     "end_time": "2023-12-08T05:52:05.567605400Z",
     "start_time": "2023-12-08T05:52:05.556009800Z"
    }
   },
   "outputs": [],
   "source": [
    "import pandas as pd\n",
    "from thefuzz import process\n",
    "import json "
   ]
  },
  {
   "cell_type": "code",
   "execution_count": 15,
   "outputs": [],
   "source": [
    "world_cities_df = pd.read_csv(\"worldcities.csv\")\n",
    "world_cities_df = world_cities_df[[\"country\", \"city\", \"lat\", \"lng\"]]\n",
    "world_cities_df[\"country\"] = world_cities_df[\"country\"].map(str.lower).map(str.strip)\n",
    "world_cities_df[\"city\"] = world_cities_df[\"city\"].map(str.lower).map(str.strip)\n",
    "world_cities_df.columns = [\"country\", \"city\", \"latitude\", \"longitude\"]\n",
    "world_cities_df = world_cities_df.drop_duplicates()"
   ],
   "metadata": {
    "collapsed": false,
    "ExecuteTime": {
     "end_time": "2023-12-08T05:52:05.700399100Z",
     "start_time": "2023-12-08T05:52:05.572605300Z"
    }
   },
   "id": "71962d0ddff1f2c8"
  },
  {
   "cell_type": "code",
   "execution_count": 16,
   "outputs": [],
   "source": [
    "global_air_pollution_df = pd.read_csv(\"global-air-pollution-dataset.csv\")\n",
    "\n",
    "global_air_pollution_df = global_air_pollution_df[[\"Country\", \"City\", \"AQI Value\", \"AQI Category\", \"Ozone AQI Value\", \"Ozone AQI Category\"]]\n",
    "global_air_pollution_df.columns = [\"country\", \"city\", \"aqi_value\", \"aqi_category\", \"ozone_aqi_value\", \"ozone_aqi_category\"]\n",
    "global_air_pollution_df = global_air_pollution_df[global_air_pollution_df['country'].notna()]\n",
    "\n",
    "\n",
    "global_air_pollution_df[\"city\"] = global_air_pollution_df[\"city\"].map(str).map(str.lower) \n",
    "global_air_pollution_df[\"aqi_category\"] = global_air_pollution_df[\"aqi_category\"].map(str.lower) \n",
    "global_air_pollution_df[\"ozone_aqi_category\"] = global_air_pollution_df[\"ozone_aqi_category\"].map(str.lower) "
   ],
   "metadata": {
    "collapsed": false,
    "ExecuteTime": {
     "end_time": "2023-12-08T05:52:05.752879800Z",
     "start_time": "2023-12-08T05:52:05.703808700Z"
    }
   },
   "id": "7f13bdc618d2c79d"
  },
  {
   "cell_type": "code",
   "execution_count": 17,
   "outputs": [],
   "source": [
    "def normalize_city_name(name: str, feature: str):\n",
    "    unique_values = world_cities_df[feature].unique()\n",
    "    extracted_names = process.extract(name, unique_values, limit=1)\n",
    "    if len(extracted_names) == 0: return None\n",
    "    return extracted_names[0][0]\n",
    "    \n",
    "new_cities = global_air_pollution_df[\"city\"].map(lambda name: normalize_city_name(name, \"city\"))\n",
    "new_countries = global_air_pollution_df[\"country\"].map(lambda name: normalize_city_name(name, \"country\"))"
   ],
   "metadata": {
    "collapsed": false,
    "ExecuteTime": {
     "end_time": "2023-12-08T06:20:32.768182800Z",
     "start_time": "2023-12-08T05:52:05.754074900Z"
    }
   },
   "id": "156c85775e3f5276"
  },
  {
   "cell_type": "code",
   "execution_count": 18,
   "outputs": [],
   "source": [
    "global_air_pollution_df['country'] = new_countries\n",
    "global_air_pollution_df['city'] = new_cities"
   ],
   "metadata": {
    "collapsed": false,
    "ExecuteTime": {
     "end_time": "2023-12-08T06:20:32.779034700Z",
     "start_time": "2023-12-08T06:20:32.770737Z"
    }
   },
   "id": "7b32ea508decd607"
  },
  {
   "cell_type": "code",
   "execution_count": 19,
   "outputs": [],
   "source": [
    "global_air_pollution_df.loc[global_air_pollution_df[\"aqi_category\"] == \"unhealthy for sensitive groups\", \"aqi_category\"] = \"unhealthy\"\n",
    "global_air_pollution_df.loc[global_air_pollution_df[\"aqi_category\"] == \"very unhealthy\", \"aqi_category\"] = \"unhealthy\"\n",
    "global_air_pollution_df.loc[global_air_pollution_df[\"aqi_category\"] == \"hazardous\", \"aqi_category\"] = \"dangerous\"\n",
    "\n",
    "global_air_pollution_df.loc[global_air_pollution_df[\"ozone_aqi_category\"] == \"unhealthy for sensitive groups\", \"ozone_aqi_category\"] = \"unhealthy\"\n",
    "global_air_pollution_df.loc[global_air_pollution_df[\"ozone_aqi_category\"] == \"very unhealthy\", \"ozone_aqi_category\"] = \"unhealthy\""
   ],
   "metadata": {
    "collapsed": false,
    "ExecuteTime": {
     "end_time": "2023-12-08T06:20:32.803043700Z",
     "start_time": "2023-12-08T06:20:32.779034700Z"
    }
   },
   "id": "86984222d9d0a92"
  },
  {
   "cell_type": "code",
   "execution_count": 23,
   "outputs": [],
   "source": [
    "formatted_data = pd.merge(world_cities_df, global_air_pollution_df, how=\"inner\", left_on=['country', 'city'], right_on=['country', 'city'])"
   ],
   "metadata": {
    "collapsed": false,
    "ExecuteTime": {
     "end_time": "2023-12-08T06:20:48.783752Z",
     "start_time": "2023-12-08T06:20:48.758945900Z"
    }
   },
   "id": "2fb634f7eeac32ca"
  },
  {
   "cell_type": "code",
   "execution_count": 24,
   "outputs": [],
   "source": [
    "data = [\n",
    "    {\n",
    "        \"country\": row[0], \"city\": row[1], \"coordinates\": [row[3], row[2]], \n",
    "        \"aqi_value\": row[4], \"aqi_category\": row[5], \n",
    "        \"ozone_aqi_value\": row[4], \"ozone_aqi_category\": row[5]\n",
    "    }\n",
    "    for row in formatted_data.values\n",
    "]"
   ],
   "metadata": {
    "collapsed": false,
    "ExecuteTime": {
     "end_time": "2023-12-08T06:20:51.395048600Z",
     "start_time": "2023-12-08T06:20:51.231810900Z"
    }
   },
   "id": "8d47b7de31e392f4"
  },
  {
   "cell_type": "code",
   "execution_count": 25,
   "outputs": [],
   "source": [
    "with open(\"formatted_data.json\", \"w\") as file:\n",
    "    json_data = json.dumps(data)\n",
    "    file.write(json_data)"
   ],
   "metadata": {
    "collapsed": false,
    "ExecuteTime": {
     "end_time": "2023-12-08T06:20:53.809143Z",
     "start_time": "2023-12-08T06:20:53.765318700Z"
    }
   },
   "id": "737a1a300d6b2a67"
  }
 ],
 "metadata": {
  "kernelspec": {
   "display_name": "Python 3",
   "language": "python",
   "name": "python3"
  },
  "language_info": {
   "codemirror_mode": {
    "name": "ipython",
    "version": 2
   },
   "file_extension": ".py",
   "mimetype": "text/x-python",
   "name": "python",
   "nbconvert_exporter": "python",
   "pygments_lexer": "ipython2",
   "version": "2.7.6"
  }
 },
 "nbformat": 4,
 "nbformat_minor": 5
}
